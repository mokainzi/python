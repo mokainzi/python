{
  "nbformat": 4,
  "nbformat_minor": 0,
  "metadata": {
    "kernelspec": {
      "display_name": "Python 3",
      "language": "python",
      "name": "python3"
    },
    "language_info": {
      "codemirror_mode": {
        "name": "ipython",
        "version": 3
      },
      "file_extension": ".py",
      "mimetype": "text/x-python",
      "name": "python",
      "nbconvert_exporter": "python",
      "pygments_lexer": "ipython3",
      "version": "3.5.6"
    },
    "colab": {
      "name": "assignment_module_3.ipynb",
      "provenance": [],
      "include_colab_link": true
    }
  },
  "cells": [
    {
      "cell_type": "markdown",
      "metadata": {
        "id": "view-in-github",
        "colab_type": "text"
      },
      "source": [
        "<a href=\"https://colab.research.google.com/github/mokainzi/python/blob/main/assignment_module_3.ipynb\" target=\"_parent\"><img src=\"https://colab.research.google.com/assets/colab-badge.svg\" alt=\"Open In Colab\"/></a>"
      ]
    },
    {
      "cell_type": "markdown",
      "metadata": {
        "id": "6c9fsJpqCC2b"
      },
      "source": [
        "### In each cell complete the task using pandas"
      ]
    },
    {
      "cell_type": "code",
      "metadata": {
        "id": "hg_sIkv_CC2e"
      },
      "source": [
        "import pandas as pd\n",
        "import numpy as np"
      ],
      "execution_count": 2,
      "outputs": []
    },
    {
      "cell_type": "markdown",
      "metadata": {
        "id": "3_ohbAJzKhQM"
      },
      "source": [
        ""
      ]
    },
    {
      "cell_type": "markdown",
      "metadata": {
        "id": "BX874lK4CC2s"
      },
      "source": [
        "Read in the titanic.csv file in the `~/data` directory as a pandas dataframe called **df**\n",
        "\n",
        "Or you can also use this link: https://raw.githubusercontent.com/daniel-dc-cd/data_science/master/module_3_Python/data/titanic.csv\n",
        "\n"
      ]
    },
    {
      "cell_type": "code",
      "metadata": {
        "id": "ojgJ3wqUCC2x"
      },
      "source": [
        "df = pd.read_csv('https://raw.githubusercontent.com/daniel-dc-cd/data_science/master/module_3_Python/data/titanic.csv')"
      ],
      "execution_count": 3,
      "outputs": []
    },
    {
      "cell_type": "markdown",
      "metadata": {
        "id": "R8Oq_qrCCC2-"
      },
      "source": [
        "Display the head of the dataframe"
      ]
    },
    {
      "cell_type": "code",
      "metadata": {
        "id": "bjHBkQRtCC3B",
        "outputId": "3ed0718f-0148-4009-f824-c19a51af62bb",
        "colab": {
          "base_uri": "https://localhost:8080/",
          "height": 204
        }
      },
      "source": [
        "df.head()"
      ],
      "execution_count": 4,
      "outputs": [
        {
          "output_type": "execute_result",
          "data": {
            "text/html": [
              "<div>\n",
              "<style scoped>\n",
              "    .dataframe tbody tr th:only-of-type {\n",
              "        vertical-align: middle;\n",
              "    }\n",
              "\n",
              "    .dataframe tbody tr th {\n",
              "        vertical-align: top;\n",
              "    }\n",
              "\n",
              "    .dataframe thead th {\n",
              "        text-align: right;\n",
              "    }\n",
              "</style>\n",
              "<table border=\"1\" class=\"dataframe\">\n",
              "  <thead>\n",
              "    <tr style=\"text-align: right;\">\n",
              "      <th></th>\n",
              "      <th>PassengerId</th>\n",
              "      <th>Survived</th>\n",
              "      <th>Pclass</th>\n",
              "      <th>Name</th>\n",
              "      <th>Sex</th>\n",
              "      <th>Age</th>\n",
              "      <th>SibSp</th>\n",
              "      <th>Parch</th>\n",
              "      <th>Ticket</th>\n",
              "      <th>Fare</th>\n",
              "      <th>Cabin</th>\n",
              "      <th>Embarked</th>\n",
              "    </tr>\n",
              "  </thead>\n",
              "  <tbody>\n",
              "    <tr>\n",
              "      <th>0</th>\n",
              "      <td>1</td>\n",
              "      <td>0</td>\n",
              "      <td>3</td>\n",
              "      <td>Braund, Mr. Owen Harris</td>\n",
              "      <td>male</td>\n",
              "      <td>22.0</td>\n",
              "      <td>1</td>\n",
              "      <td>0</td>\n",
              "      <td>A/5 21171</td>\n",
              "      <td>7.2500</td>\n",
              "      <td>NaN</td>\n",
              "      <td>S</td>\n",
              "    </tr>\n",
              "    <tr>\n",
              "      <th>1</th>\n",
              "      <td>2</td>\n",
              "      <td>1</td>\n",
              "      <td>1</td>\n",
              "      <td>Cumings, Mrs. John Bradley (Florence Briggs Th...</td>\n",
              "      <td>female</td>\n",
              "      <td>38.0</td>\n",
              "      <td>1</td>\n",
              "      <td>0</td>\n",
              "      <td>PC 17599</td>\n",
              "      <td>71.2833</td>\n",
              "      <td>C85</td>\n",
              "      <td>C</td>\n",
              "    </tr>\n",
              "    <tr>\n",
              "      <th>2</th>\n",
              "      <td>3</td>\n",
              "      <td>1</td>\n",
              "      <td>3</td>\n",
              "      <td>Heikkinen, Miss. Laina</td>\n",
              "      <td>female</td>\n",
              "      <td>26.0</td>\n",
              "      <td>0</td>\n",
              "      <td>0</td>\n",
              "      <td>STON/O2. 3101282</td>\n",
              "      <td>7.9250</td>\n",
              "      <td>NaN</td>\n",
              "      <td>S</td>\n",
              "    </tr>\n",
              "    <tr>\n",
              "      <th>3</th>\n",
              "      <td>4</td>\n",
              "      <td>1</td>\n",
              "      <td>1</td>\n",
              "      <td>Futrelle, Mrs. Jacques Heath (Lily May Peel)</td>\n",
              "      <td>female</td>\n",
              "      <td>35.0</td>\n",
              "      <td>1</td>\n",
              "      <td>0</td>\n",
              "      <td>113803</td>\n",
              "      <td>53.1000</td>\n",
              "      <td>C123</td>\n",
              "      <td>S</td>\n",
              "    </tr>\n",
              "    <tr>\n",
              "      <th>4</th>\n",
              "      <td>5</td>\n",
              "      <td>0</td>\n",
              "      <td>3</td>\n",
              "      <td>Allen, Mr. William Henry</td>\n",
              "      <td>male</td>\n",
              "      <td>35.0</td>\n",
              "      <td>0</td>\n",
              "      <td>0</td>\n",
              "      <td>373450</td>\n",
              "      <td>8.0500</td>\n",
              "      <td>NaN</td>\n",
              "      <td>S</td>\n",
              "    </tr>\n",
              "  </tbody>\n",
              "</table>\n",
              "</div>"
            ],
            "text/plain": [
              "   PassengerId  Survived  Pclass  ...     Fare Cabin  Embarked\n",
              "0            1         0       3  ...   7.2500   NaN         S\n",
              "1            2         1       1  ...  71.2833   C85         C\n",
              "2            3         1       3  ...   7.9250   NaN         S\n",
              "3            4         1       1  ...  53.1000  C123         S\n",
              "4            5         0       3  ...   8.0500   NaN         S\n",
              "\n",
              "[5 rows x 12 columns]"
            ]
          },
          "metadata": {
            "tags": []
          },
          "execution_count": 4
        }
      ]
    },
    {
      "cell_type": "markdown",
      "metadata": {
        "id": "ikD3XVZnCC3K"
      },
      "source": [
        "What is the percentage of people who survived? (hint find the mean of the survival column)"
      ]
    },
    {
      "cell_type": "code",
      "metadata": {
        "id": "pd1-RmEtCC3L",
        "outputId": "af7ed6cc-ccf0-49f0-8a83-8724e6300711",
        "colab": {
          "base_uri": "https://localhost:8080/",
          "height": 51
        }
      },
      "source": [
        "df[['Survived']].mean()"
      ],
      "execution_count": null,
      "outputs": [
        {
          "output_type": "execute_result",
          "data": {
            "text/plain": [
              "Survived    0.383838\n",
              "dtype: float64"
            ]
          },
          "metadata": {
            "tags": []
          },
          "execution_count": 4
        }
      ]
    },
    {
      "cell_type": "markdown",
      "metadata": {
        "id": "XSJLBImrCC3T"
      },
      "source": [
        "How many women and how many men survived?"
      ]
    },
    {
      "cell_type": "code",
      "metadata": {
        "id": "klIyvOTvCC3U",
        "outputId": "6f51e526-5953-4134-a5fd-16076de502ff",
        "colab": {
          "base_uri": "https://localhost:8080/",
          "height": 142
        }
      },
      "source": [
        "df.groupby('Sex')[['Survived']].mean()"
      ],
      "execution_count": null,
      "outputs": [
        {
          "output_type": "execute_result",
          "data": {
            "text/html": [
              "<div>\n",
              "<style scoped>\n",
              "    .dataframe tbody tr th:only-of-type {\n",
              "        vertical-align: middle;\n",
              "    }\n",
              "\n",
              "    .dataframe tbody tr th {\n",
              "        vertical-align: top;\n",
              "    }\n",
              "\n",
              "    .dataframe thead th {\n",
              "        text-align: right;\n",
              "    }\n",
              "</style>\n",
              "<table border=\"1\" class=\"dataframe\">\n",
              "  <thead>\n",
              "    <tr style=\"text-align: right;\">\n",
              "      <th></th>\n",
              "      <th>Survived</th>\n",
              "    </tr>\n",
              "    <tr>\n",
              "      <th>Sex</th>\n",
              "      <th></th>\n",
              "    </tr>\n",
              "  </thead>\n",
              "  <tbody>\n",
              "    <tr>\n",
              "      <th>female</th>\n",
              "      <td>0.742038</td>\n",
              "    </tr>\n",
              "    <tr>\n",
              "      <th>male</th>\n",
              "      <td>0.188908</td>\n",
              "    </tr>\n",
              "  </tbody>\n",
              "</table>\n",
              "</div>"
            ],
            "text/plain": [
              "        Survived\n",
              "Sex             \n",
              "female  0.742038\n",
              "male    0.188908"
            ]
          },
          "metadata": {
            "tags": []
          },
          "execution_count": 8
        }
      ]
    },
    {
      "cell_type": "markdown",
      "metadata": {
        "id": "KufP8fcFCC3c"
      },
      "source": [
        "What is the percentage of people that survied who paid a fare less than 10?"
      ]
    },
    {
      "cell_type": "code",
      "metadata": {
        "id": "Mjv4JOz1CC3f",
        "outputId": "bd3de152-b55d-4027-9e21-b696b08ae688",
        "colab": {
          "base_uri": "https://localhost:8080/"
        }
      },
      "source": [
        "len(df[(df['Fare'] < 10) & (df['Survived'] == 1)]) / len(df[df['Survived'] == 1])"
      ],
      "execution_count": 10,
      "outputs": [
        {
          "output_type": "execute_result",
          "data": {
            "text/plain": [
              "0.195906432748538"
            ]
          },
          "metadata": {
            "tags": []
          },
          "execution_count": 10
        }
      ]
    },
    {
      "cell_type": "markdown",
      "metadata": {
        "id": "ZjEHLwflCC3m"
      },
      "source": [
        "What is the average age of those who didn't survive?"
      ]
    },
    {
      "cell_type": "code",
      "metadata": {
        "id": "XMSKlPBQCC3n",
        "outputId": "a1068209-558d-4860-bfd5-c03cdeff48cd",
        "colab": {
          "base_uri": "https://localhost:8080/",
          "height": 34
        }
      },
      "source": [
        "df[df['Survived'] == 0].Age.mean()"
      ],
      "execution_count": null,
      "outputs": [
        {
          "output_type": "execute_result",
          "data": {
            "text/plain": [
              "30.62617924528302"
            ]
          },
          "metadata": {
            "tags": []
          },
          "execution_count": 38
        }
      ]
    },
    {
      "cell_type": "markdown",
      "metadata": {
        "id": "2VSXhYtRCC3s"
      },
      "source": [
        "What is the average age of those who did survive?"
      ]
    },
    {
      "cell_type": "code",
      "metadata": {
        "id": "VBBADfufCC3w",
        "outputId": "263870ab-a7c4-439f-f0ee-3449de4ffbc0",
        "colab": {
          "base_uri": "https://localhost:8080/",
          "height": 34
        }
      },
      "source": [
        "df[df['Survived'] == 1].Age.mean()"
      ],
      "execution_count": null,
      "outputs": [
        {
          "output_type": "execute_result",
          "data": {
            "text/plain": [
              "28.343689655172415"
            ]
          },
          "metadata": {
            "tags": []
          },
          "execution_count": 39
        }
      ]
    },
    {
      "cell_type": "markdown",
      "metadata": {
        "id": "KXOFWFyYCC32"
      },
      "source": [
        "What is the average age of those who did and didn't survive grouped by gender?"
      ]
    },
    {
      "cell_type": "code",
      "metadata": {
        "id": "6Iklsz9zCC33",
        "outputId": "451dcade-61e8-4670-bc43-6490187f1715",
        "colab": {
          "base_uri": "https://localhost:8080/",
          "height": 119
        }
      },
      "source": [
        "df.groupby(['Sex', 'Survived']).Age.mean()"
      ],
      "execution_count": null,
      "outputs": [
        {
          "output_type": "execute_result",
          "data": {
            "text/plain": [
              "Sex     Survived\n",
              "female  0           25.046875\n",
              "        1           28.847716\n",
              "male    0           31.618056\n",
              "        1           27.276022\n",
              "Name: Age, dtype: float64"
            ]
          },
          "metadata": {
            "tags": []
          },
          "execution_count": 53
        }
      ]
    },
    {
      "cell_type": "markdown",
      "metadata": {
        "id": "vqf5OGCiCC38"
      },
      "source": [
        "## Tidy GDP"
      ]
    },
    {
      "cell_type": "markdown",
      "metadata": {
        "id": "hcUYOSgrCC39"
      },
      "source": [
        "Manipulate the GDP.csv file and make it tidy, the result should be a pandas dataframe with the following columns:\n",
        "* Country Name\n",
        "* Country Code\n",
        "* Year\n",
        "* GDP"
      ]
    },
    {
      "cell_type": "code",
      "metadata": {
        "id": "EKLzmZLmCC3_"
      },
      "source": [
        "# read GDP data, skipping empty/unrelated rows\n",
        "data = pd.read_csv('https://raw.githubusercontent.com/daniel-dc-cd/data_science/master/module_3_Python/data/GDP.csv', skiprows=4)"
      ],
      "execution_count": null,
      "outputs": []
    },
    {
      "cell_type": "code",
      "metadata": {
        "id": "tVZJGwUb4W9P",
        "outputId": "d9e1aeb8-b055-4f68-c162-c761ee10b4c1",
        "colab": {
          "base_uri": "https://localhost:8080/",
          "height": 411
        }
      },
      "source": [
        "# take a look at the data\n",
        "data.head()"
      ],
      "execution_count": null,
      "outputs": [
        {
          "output_type": "execute_result",
          "data": {
            "text/html": [
              "<div>\n",
              "<style scoped>\n",
              "    .dataframe tbody tr th:only-of-type {\n",
              "        vertical-align: middle;\n",
              "    }\n",
              "\n",
              "    .dataframe tbody tr th {\n",
              "        vertical-align: top;\n",
              "    }\n",
              "\n",
              "    .dataframe thead th {\n",
              "        text-align: right;\n",
              "    }\n",
              "</style>\n",
              "<table border=\"1\" class=\"dataframe\">\n",
              "  <thead>\n",
              "    <tr style=\"text-align: right;\">\n",
              "      <th></th>\n",
              "      <th>Country Name</th>\n",
              "      <th>Country Code</th>\n",
              "      <th>Indicator Name</th>\n",
              "      <th>Indicator Code</th>\n",
              "      <th>1960</th>\n",
              "      <th>1961</th>\n",
              "      <th>1962</th>\n",
              "      <th>1963</th>\n",
              "      <th>1964</th>\n",
              "      <th>1965</th>\n",
              "      <th>1966</th>\n",
              "      <th>1967</th>\n",
              "      <th>1968</th>\n",
              "      <th>1969</th>\n",
              "      <th>1970</th>\n",
              "      <th>1971</th>\n",
              "      <th>1972</th>\n",
              "      <th>1973</th>\n",
              "      <th>1974</th>\n",
              "      <th>1975</th>\n",
              "      <th>1976</th>\n",
              "      <th>1977</th>\n",
              "      <th>1978</th>\n",
              "      <th>1979</th>\n",
              "      <th>1980</th>\n",
              "      <th>1981</th>\n",
              "      <th>1982</th>\n",
              "      <th>1983</th>\n",
              "      <th>1984</th>\n",
              "      <th>1985</th>\n",
              "      <th>1986</th>\n",
              "      <th>1987</th>\n",
              "      <th>1988</th>\n",
              "      <th>1989</th>\n",
              "      <th>1990</th>\n",
              "      <th>1991</th>\n",
              "      <th>1992</th>\n",
              "      <th>1993</th>\n",
              "      <th>1994</th>\n",
              "      <th>1995</th>\n",
              "      <th>1996</th>\n",
              "      <th>1997</th>\n",
              "      <th>1998</th>\n",
              "      <th>1999</th>\n",
              "      <th>2000</th>\n",
              "      <th>2001</th>\n",
              "      <th>2002</th>\n",
              "      <th>2003</th>\n",
              "      <th>2004</th>\n",
              "      <th>2005</th>\n",
              "      <th>2006</th>\n",
              "      <th>2007</th>\n",
              "      <th>2008</th>\n",
              "      <th>2009</th>\n",
              "      <th>2010</th>\n",
              "      <th>2011</th>\n",
              "      <th>2012</th>\n",
              "      <th>2013</th>\n",
              "      <th>2014</th>\n",
              "      <th>2015</th>\n",
              "      <th>2016</th>\n",
              "      <th>2017</th>\n",
              "      <th>Unnamed: 62</th>\n",
              "    </tr>\n",
              "  </thead>\n",
              "  <tbody>\n",
              "    <tr>\n",
              "      <th>0</th>\n",
              "      <td>Aruba</td>\n",
              "      <td>ABW</td>\n",
              "      <td>GDP (current US$)</td>\n",
              "      <td>NY.GDP.MKTP.CD</td>\n",
              "      <td>NaN</td>\n",
              "      <td>NaN</td>\n",
              "      <td>NaN</td>\n",
              "      <td>NaN</td>\n",
              "      <td>NaN</td>\n",
              "      <td>NaN</td>\n",
              "      <td>NaN</td>\n",
              "      <td>NaN</td>\n",
              "      <td>NaN</td>\n",
              "      <td>NaN</td>\n",
              "      <td>NaN</td>\n",
              "      <td>NaN</td>\n",
              "      <td>NaN</td>\n",
              "      <td>NaN</td>\n",
              "      <td>NaN</td>\n",
              "      <td>NaN</td>\n",
              "      <td>NaN</td>\n",
              "      <td>NaN</td>\n",
              "      <td>NaN</td>\n",
              "      <td>NaN</td>\n",
              "      <td>NaN</td>\n",
              "      <td>NaN</td>\n",
              "      <td>NaN</td>\n",
              "      <td>NaN</td>\n",
              "      <td>NaN</td>\n",
              "      <td>NaN</td>\n",
              "      <td>NaN</td>\n",
              "      <td>NaN</td>\n",
              "      <td>NaN</td>\n",
              "      <td>NaN</td>\n",
              "      <td>NaN</td>\n",
              "      <td>NaN</td>\n",
              "      <td>NaN</td>\n",
              "      <td>NaN</td>\n",
              "      <td>1.330168e+09</td>\n",
              "      <td>1.320670e+09</td>\n",
              "      <td>1.379888e+09</td>\n",
              "      <td>1.531844e+09</td>\n",
              "      <td>1.665363e+09</td>\n",
              "      <td>1.722799e+09</td>\n",
              "      <td>1.873453e+09</td>\n",
              "      <td>1.920263e+09</td>\n",
              "      <td>1.941095e+09</td>\n",
              "      <td>2.021302e+09</td>\n",
              "      <td>2.228279e+09</td>\n",
              "      <td>2.331006e+09</td>\n",
              "      <td>2.421475e+09</td>\n",
              "      <td>2.623726e+09</td>\n",
              "      <td>2.791961e+09</td>\n",
              "      <td>2.498933e+09</td>\n",
              "      <td>2.467704e+09</td>\n",
              "      <td>2.584464e+09</td>\n",
              "      <td>NaN</td>\n",
              "      <td>NaN</td>\n",
              "      <td>NaN</td>\n",
              "      <td>NaN</td>\n",
              "      <td>NaN</td>\n",
              "      <td>NaN</td>\n",
              "      <td>NaN</td>\n",
              "    </tr>\n",
              "    <tr>\n",
              "      <th>1</th>\n",
              "      <td>Afghanistan</td>\n",
              "      <td>AFG</td>\n",
              "      <td>GDP (current US$)</td>\n",
              "      <td>NY.GDP.MKTP.CD</td>\n",
              "      <td>5.377778e+08</td>\n",
              "      <td>5.488889e+08</td>\n",
              "      <td>5.466667e+08</td>\n",
              "      <td>7.511112e+08</td>\n",
              "      <td>8.000000e+08</td>\n",
              "      <td>1.006667e+09</td>\n",
              "      <td>1.400000e+09</td>\n",
              "      <td>1.673333e+09</td>\n",
              "      <td>1.373333e+09</td>\n",
              "      <td>1.408889e+09</td>\n",
              "      <td>1.748887e+09</td>\n",
              "      <td>1.831109e+09</td>\n",
              "      <td>1.595555e+09</td>\n",
              "      <td>1.733333e+09</td>\n",
              "      <td>2.155555e+09</td>\n",
              "      <td>2.366667e+09</td>\n",
              "      <td>2.555556e+09</td>\n",
              "      <td>2.953333e+09</td>\n",
              "      <td>3.300000e+09</td>\n",
              "      <td>3.697940e+09</td>\n",
              "      <td>3.641723e+09</td>\n",
              "      <td>3.478788e+09</td>\n",
              "      <td>NaN</td>\n",
              "      <td>NaN</td>\n",
              "      <td>NaN</td>\n",
              "      <td>NaN</td>\n",
              "      <td>NaN</td>\n",
              "      <td>NaN</td>\n",
              "      <td>NaN</td>\n",
              "      <td>NaN</td>\n",
              "      <td>NaN</td>\n",
              "      <td>NaN</td>\n",
              "      <td>NaN</td>\n",
              "      <td>NaN</td>\n",
              "      <td>NaN</td>\n",
              "      <td>NaN</td>\n",
              "      <td>NaN</td>\n",
              "      <td>NaN</td>\n",
              "      <td>NaN</td>\n",
              "      <td>NaN</td>\n",
              "      <td>NaN</td>\n",
              "      <td>2.461666e+09</td>\n",
              "      <td>4.128821e+09</td>\n",
              "      <td>4.583644e+09</td>\n",
              "      <td>5.285466e+09</td>\n",
              "      <td>6.275074e+09</td>\n",
              "      <td>7.057598e+09</td>\n",
              "      <td>9.843842e+09</td>\n",
              "      <td>1.019053e+10</td>\n",
              "      <td>1.248694e+10</td>\n",
              "      <td>1.593680e+10</td>\n",
              "      <td>1.793024e+10</td>\n",
              "      <td>2.053654e+10</td>\n",
              "      <td>2.026425e+10</td>\n",
              "      <td>2.061610e+10</td>\n",
              "      <td>1.921556e+10</td>\n",
              "      <td>1.946902e+10</td>\n",
              "      <td>2.081530e+10</td>\n",
              "      <td>NaN</td>\n",
              "    </tr>\n",
              "    <tr>\n",
              "      <th>2</th>\n",
              "      <td>Angola</td>\n",
              "      <td>AGO</td>\n",
              "      <td>GDP (current US$)</td>\n",
              "      <td>NY.GDP.MKTP.CD</td>\n",
              "      <td>NaN</td>\n",
              "      <td>NaN</td>\n",
              "      <td>NaN</td>\n",
              "      <td>NaN</td>\n",
              "      <td>NaN</td>\n",
              "      <td>NaN</td>\n",
              "      <td>NaN</td>\n",
              "      <td>NaN</td>\n",
              "      <td>NaN</td>\n",
              "      <td>NaN</td>\n",
              "      <td>NaN</td>\n",
              "      <td>NaN</td>\n",
              "      <td>NaN</td>\n",
              "      <td>NaN</td>\n",
              "      <td>NaN</td>\n",
              "      <td>NaN</td>\n",
              "      <td>NaN</td>\n",
              "      <td>NaN</td>\n",
              "      <td>NaN</td>\n",
              "      <td>NaN</td>\n",
              "      <td>5.930503e+09</td>\n",
              "      <td>5.550483e+09</td>\n",
              "      <td>5.550483e+09</td>\n",
              "      <td>5.784342e+09</td>\n",
              "      <td>6.131475e+09</td>\n",
              "      <td>7.553560e+09</td>\n",
              "      <td>7.072063e+09</td>\n",
              "      <td>8.083872e+09</td>\n",
              "      <td>8.769251e+09</td>\n",
              "      <td>1.020110e+10</td>\n",
              "      <td>1.122876e+10</td>\n",
              "      <td>1.060378e+10</td>\n",
              "      <td>8.307811e+09</td>\n",
              "      <td>5.768720e+09</td>\n",
              "      <td>4.438321e+09</td>\n",
              "      <td>5.538749e+09</td>\n",
              "      <td>7.526447e+09</td>\n",
              "      <td>7.648377e+09</td>\n",
              "      <td>6.506230e+09</td>\n",
              "      <td>6.152923e+09</td>\n",
              "      <td>9.129595e+09</td>\n",
              "      <td>8.936064e+09</td>\n",
              "      <td>1.249735e+10</td>\n",
              "      <td>1.418895e+10</td>\n",
              "      <td>1.964085e+10</td>\n",
              "      <td>2.823371e+10</td>\n",
              "      <td>4.178948e+10</td>\n",
              "      <td>6.044892e+10</td>\n",
              "      <td>8.417804e+10</td>\n",
              "      <td>7.549239e+10</td>\n",
              "      <td>8.252614e+10</td>\n",
              "      <td>1.041158e+11</td>\n",
              "      <td>1.139232e+11</td>\n",
              "      <td>1.249125e+11</td>\n",
              "      <td>1.267302e+11</td>\n",
              "      <td>1.026212e+11</td>\n",
              "      <td>9.533720e+10</td>\n",
              "      <td>1.242094e+11</td>\n",
              "      <td>NaN</td>\n",
              "    </tr>\n",
              "    <tr>\n",
              "      <th>3</th>\n",
              "      <td>Albania</td>\n",
              "      <td>ALB</td>\n",
              "      <td>GDP (current US$)</td>\n",
              "      <td>NY.GDP.MKTP.CD</td>\n",
              "      <td>NaN</td>\n",
              "      <td>NaN</td>\n",
              "      <td>NaN</td>\n",
              "      <td>NaN</td>\n",
              "      <td>NaN</td>\n",
              "      <td>NaN</td>\n",
              "      <td>NaN</td>\n",
              "      <td>NaN</td>\n",
              "      <td>NaN</td>\n",
              "      <td>NaN</td>\n",
              "      <td>NaN</td>\n",
              "      <td>NaN</td>\n",
              "      <td>NaN</td>\n",
              "      <td>NaN</td>\n",
              "      <td>NaN</td>\n",
              "      <td>NaN</td>\n",
              "      <td>NaN</td>\n",
              "      <td>NaN</td>\n",
              "      <td>NaN</td>\n",
              "      <td>NaN</td>\n",
              "      <td>NaN</td>\n",
              "      <td>NaN</td>\n",
              "      <td>NaN</td>\n",
              "      <td>NaN</td>\n",
              "      <td>1.924242e+09</td>\n",
              "      <td>1.965385e+09</td>\n",
              "      <td>2.173750e+09</td>\n",
              "      <td>2.156625e+09</td>\n",
              "      <td>2.126000e+09</td>\n",
              "      <td>2.335125e+09</td>\n",
              "      <td>2.101625e+09</td>\n",
              "      <td>1.139167e+09</td>\n",
              "      <td>7.094526e+08</td>\n",
              "      <td>1.228071e+09</td>\n",
              "      <td>1.985674e+09</td>\n",
              "      <td>2.424499e+09</td>\n",
              "      <td>3.314898e+09</td>\n",
              "      <td>2.359903e+09</td>\n",
              "      <td>2.707124e+09</td>\n",
              "      <td>3.414761e+09</td>\n",
              "      <td>3.632044e+09</td>\n",
              "      <td>4.060759e+09</td>\n",
              "      <td>4.435079e+09</td>\n",
              "      <td>5.746946e+09</td>\n",
              "      <td>7.314865e+09</td>\n",
              "      <td>8.158549e+09</td>\n",
              "      <td>8.992642e+09</td>\n",
              "      <td>1.070101e+10</td>\n",
              "      <td>1.288135e+10</td>\n",
              "      <td>1.204421e+10</td>\n",
              "      <td>1.192695e+10</td>\n",
              "      <td>1.289087e+10</td>\n",
              "      <td>1.231978e+10</td>\n",
              "      <td>1.277628e+10</td>\n",
              "      <td>1.322824e+10</td>\n",
              "      <td>1.138693e+10</td>\n",
              "      <td>1.188368e+10</td>\n",
              "      <td>1.303935e+10</td>\n",
              "      <td>NaN</td>\n",
              "    </tr>\n",
              "    <tr>\n",
              "      <th>4</th>\n",
              "      <td>Andorra</td>\n",
              "      <td>AND</td>\n",
              "      <td>GDP (current US$)</td>\n",
              "      <td>NY.GDP.MKTP.CD</td>\n",
              "      <td>NaN</td>\n",
              "      <td>NaN</td>\n",
              "      <td>NaN</td>\n",
              "      <td>NaN</td>\n",
              "      <td>NaN</td>\n",
              "      <td>NaN</td>\n",
              "      <td>NaN</td>\n",
              "      <td>NaN</td>\n",
              "      <td>NaN</td>\n",
              "      <td>NaN</td>\n",
              "      <td>7.861921e+07</td>\n",
              "      <td>8.940982e+07</td>\n",
              "      <td>1.134082e+08</td>\n",
              "      <td>1.508201e+08</td>\n",
              "      <td>1.865587e+08</td>\n",
              "      <td>2.201272e+08</td>\n",
              "      <td>2.272810e+08</td>\n",
              "      <td>2.540202e+08</td>\n",
              "      <td>3.080089e+08</td>\n",
              "      <td>4.115783e+08</td>\n",
              "      <td>4.464161e+08</td>\n",
              "      <td>3.889587e+08</td>\n",
              "      <td>3.758960e+08</td>\n",
              "      <td>3.278618e+08</td>\n",
              "      <td>3.300707e+08</td>\n",
              "      <td>3.467380e+08</td>\n",
              "      <td>4.820006e+08</td>\n",
              "      <td>6.113164e+08</td>\n",
              "      <td>7.214259e+08</td>\n",
              "      <td>7.954493e+08</td>\n",
              "      <td>1.029048e+09</td>\n",
              "      <td>1.106929e+09</td>\n",
              "      <td>1.210014e+09</td>\n",
              "      <td>1.007026e+09</td>\n",
              "      <td>1.017549e+09</td>\n",
              "      <td>1.178739e+09</td>\n",
              "      <td>1.223945e+09</td>\n",
              "      <td>1.180597e+09</td>\n",
              "      <td>1.211932e+09</td>\n",
              "      <td>1.239876e+09</td>\n",
              "      <td>1.434430e+09</td>\n",
              "      <td>1.496913e+09</td>\n",
              "      <td>1.733117e+09</td>\n",
              "      <td>2.398646e+09</td>\n",
              "      <td>2.935659e+09</td>\n",
              "      <td>3.255789e+09</td>\n",
              "      <td>3.543257e+09</td>\n",
              "      <td>4.016972e+09</td>\n",
              "      <td>4.007353e+09</td>\n",
              "      <td>3.660531e+09</td>\n",
              "      <td>3.355695e+09</td>\n",
              "      <td>3.442063e+09</td>\n",
              "      <td>3.164615e+09</td>\n",
              "      <td>3.281585e+09</td>\n",
              "      <td>3.350736e+09</td>\n",
              "      <td>2.811489e+09</td>\n",
              "      <td>2.877312e+09</td>\n",
              "      <td>3.012914e+09</td>\n",
              "      <td>NaN</td>\n",
              "    </tr>\n",
              "  </tbody>\n",
              "</table>\n",
              "</div>"
            ],
            "text/plain": [
              "  Country Name Country Code  ...          2017 Unnamed: 62\n",
              "0        Aruba          ABW  ...           NaN         NaN\n",
              "1  Afghanistan          AFG  ...  2.081530e+10         NaN\n",
              "2       Angola          AGO  ...  1.242094e+11         NaN\n",
              "3      Albania          ALB  ...  1.303935e+10         NaN\n",
              "4      Andorra          AND  ...  3.012914e+09         NaN\n",
              "\n",
              "[5 rows x 63 columns]"
            ]
          },
          "metadata": {
            "tags": []
          },
          "execution_count": 152
        }
      ]
    },
    {
      "cell_type": "code",
      "metadata": {
        "id": "BANwrCjZKI6S",
        "outputId": "851dd5a8-e461-4c33-ebe7-aa0b6a20ee6f",
        "colab": {
          "base_uri": "https://localhost:8080/",
          "height": 34
        }
      },
      "source": [
        "# investigate potential unwanted feature/column: \"Indicator Name\" \n",
        "data['Indicator Name'].unique()"
      ],
      "execution_count": null,
      "outputs": [
        {
          "output_type": "execute_result",
          "data": {
            "text/plain": [
              "array(['GDP (current US$)'], dtype=object)"
            ]
          },
          "metadata": {
            "tags": []
          },
          "execution_count": 153
        }
      ]
    },
    {
      "cell_type": "code",
      "metadata": {
        "id": "YhOwUzLpLFhx",
        "outputId": "46cb812f-7214-4d04-c8e2-dfbabb825419",
        "colab": {
          "base_uri": "https://localhost:8080/",
          "height": 34
        }
      },
      "source": [
        "# investigate potential unwanted feature/column: \"Indicator Code\" \n",
        "data['Indicator Code'].unique()"
      ],
      "execution_count": null,
      "outputs": [
        {
          "output_type": "execute_result",
          "data": {
            "text/plain": [
              "array(['NY.GDP.MKTP.CD'], dtype=object)"
            ]
          },
          "metadata": {
            "tags": []
          },
          "execution_count": 154
        }
      ]
    },
    {
      "cell_type": "code",
      "metadata": {
        "id": "9Bjvc4xOLHkF",
        "outputId": "9e7e7cbd-8db3-4ca7-f849-704043278410",
        "colab": {
          "base_uri": "https://localhost:8080/",
          "height": 34
        }
      },
      "source": [
        "# investigate potential unwanted feature/column: \"Unnamed: 62\" \n",
        "data['Unnamed: 62'].unique()"
      ],
      "execution_count": null,
      "outputs": [
        {
          "output_type": "execute_result",
          "data": {
            "text/plain": [
              "array([nan])"
            ]
          },
          "metadata": {
            "tags": []
          },
          "execution_count": 155
        }
      ]
    },
    {
      "cell_type": "code",
      "metadata": {
        "id": "CQT-ETdLyQcR"
      },
      "source": [
        "# remove unwanted features/columns\n",
        "data = data.drop(columns=['Indicator Name', 'Indicator Code', 'Unnamed: 62'])"
      ],
      "execution_count": null,
      "outputs": []
    },
    {
      "cell_type": "code",
      "metadata": {
        "id": "_rFnbDoF4klx"
      },
      "source": [
        "# reshape: years columns to Year and GDP columns\n",
        "data = data.melt(id_vars=['Country Name', 'Country Code'], var_name='Year', value_name='GDP')"
      ],
      "execution_count": null,
      "outputs": []
    },
    {
      "cell_type": "code",
      "metadata": {
        "id": "dzb2RCir7wEU",
        "outputId": "e593b2dc-49d9-4266-e0a2-ff0e76555136",
        "colab": {
          "base_uri": "https://localhost:8080/",
          "height": 102
        }
      },
      "source": [
        "# investigate missing values in the data\n",
        "data.isnull().sum()"
      ],
      "execution_count": null,
      "outputs": [
        {
          "output_type": "execute_result",
          "data": {
            "text/plain": [
              "Country Name       0\n",
              "Country Code       0\n",
              "Year               0\n",
              "GDP             3535\n",
              "dtype: int64"
            ]
          },
          "metadata": {
            "tags": []
          },
          "execution_count": 158
        }
      ]
    },
    {
      "cell_type": "code",
      "metadata": {
        "id": "V0hRSe5F-mLC",
        "outputId": "90c32429-0e57-4349-db89-4e278a7b5e3f",
        "colab": {
          "base_uri": "https://localhost:8080/",
          "height": 102
        }
      },
      "source": [
        "# proportion of missing values to data\n",
        "data.isnull().sum() / len(data)"
      ],
      "execution_count": null,
      "outputs": [
        {
          "output_type": "execute_result",
          "data": {
            "text/plain": [
              "Country Name    0.000000\n",
              "Country Code    0.000000\n",
              "Year            0.000000\n",
              "GDP             0.230865\n",
              "dtype: float64"
            ]
          },
          "metadata": {
            "tags": []
          },
          "execution_count": 162
        }
      ]
    },
    {
      "cell_type": "code",
      "metadata": {
        "id": "PRbCwP7x_xAG"
      },
      "source": [
        "# remove missing values from data\n",
        "data = data.dropna()"
      ],
      "execution_count": null,
      "outputs": []
    },
    {
      "cell_type": "code",
      "metadata": {
        "id": "k5q0ZuwD_1ll",
        "outputId": "75aed925-abf3-41ad-bd53-c4d1bcef5d10",
        "colab": {
          "base_uri": "https://localhost:8080/",
          "height": 419
        }
      },
      "source": [
        "# our data is now tidy!\n",
        "data"
      ],
      "execution_count": null,
      "outputs": [
        {
          "output_type": "execute_result",
          "data": {
            "text/html": [
              "<div>\n",
              "<style scoped>\n",
              "    .dataframe tbody tr th:only-of-type {\n",
              "        vertical-align: middle;\n",
              "    }\n",
              "\n",
              "    .dataframe tbody tr th {\n",
              "        vertical-align: top;\n",
              "    }\n",
              "\n",
              "    .dataframe thead th {\n",
              "        text-align: right;\n",
              "    }\n",
              "</style>\n",
              "<table border=\"1\" class=\"dataframe\">\n",
              "  <thead>\n",
              "    <tr style=\"text-align: right;\">\n",
              "      <th></th>\n",
              "      <th>Country Name</th>\n",
              "      <th>Country Code</th>\n",
              "      <th>Year</th>\n",
              "      <th>GDP</th>\n",
              "    </tr>\n",
              "  </thead>\n",
              "  <tbody>\n",
              "    <tr>\n",
              "      <th>1</th>\n",
              "      <td>Afghanistan</td>\n",
              "      <td>AFG</td>\n",
              "      <td>1960</td>\n",
              "      <td>5.377778e+08</td>\n",
              "    </tr>\n",
              "    <tr>\n",
              "      <th>11</th>\n",
              "      <td>Australia</td>\n",
              "      <td>AUS</td>\n",
              "      <td>1960</td>\n",
              "      <td>1.857319e+10</td>\n",
              "    </tr>\n",
              "    <tr>\n",
              "      <th>12</th>\n",
              "      <td>Austria</td>\n",
              "      <td>AUT</td>\n",
              "      <td>1960</td>\n",
              "      <td>6.592694e+09</td>\n",
              "    </tr>\n",
              "    <tr>\n",
              "      <th>14</th>\n",
              "      <td>Burundi</td>\n",
              "      <td>BDI</td>\n",
              "      <td>1960</td>\n",
              "      <td>1.960000e+08</td>\n",
              "    </tr>\n",
              "    <tr>\n",
              "      <th>15</th>\n",
              "      <td>Belgium</td>\n",
              "      <td>BEL</td>\n",
              "      <td>1960</td>\n",
              "      <td>1.165872e+10</td>\n",
              "    </tr>\n",
              "    <tr>\n",
              "      <th>...</th>\n",
              "      <td>...</td>\n",
              "      <td>...</td>\n",
              "      <td>...</td>\n",
              "      <td>...</td>\n",
              "    </tr>\n",
              "    <tr>\n",
              "      <th>15306</th>\n",
              "      <td>Samoa</td>\n",
              "      <td>WSM</td>\n",
              "      <td>2017</td>\n",
              "      <td>8.566265e+08</td>\n",
              "    </tr>\n",
              "    <tr>\n",
              "      <th>15307</th>\n",
              "      <td>Kosovo</td>\n",
              "      <td>XKX</td>\n",
              "      <td>2017</td>\n",
              "      <td>7.128691e+09</td>\n",
              "    </tr>\n",
              "    <tr>\n",
              "      <th>15309</th>\n",
              "      <td>South Africa</td>\n",
              "      <td>ZAF</td>\n",
              "      <td>2017</td>\n",
              "      <td>3.494193e+11</td>\n",
              "    </tr>\n",
              "    <tr>\n",
              "      <th>15310</th>\n",
              "      <td>Zambia</td>\n",
              "      <td>ZMB</td>\n",
              "      <td>2017</td>\n",
              "      <td>2.580867e+10</td>\n",
              "    </tr>\n",
              "    <tr>\n",
              "      <th>15311</th>\n",
              "      <td>Zimbabwe</td>\n",
              "      <td>ZWE</td>\n",
              "      <td>2017</td>\n",
              "      <td>1.784582e+10</td>\n",
              "    </tr>\n",
              "  </tbody>\n",
              "</table>\n",
              "<p>11777 rows × 4 columns</p>\n",
              "</div>"
            ],
            "text/plain": [
              "       Country Name Country Code  Year           GDP\n",
              "1       Afghanistan          AFG  1960  5.377778e+08\n",
              "11        Australia          AUS  1960  1.857319e+10\n",
              "12          Austria          AUT  1960  6.592694e+09\n",
              "14          Burundi          BDI  1960  1.960000e+08\n",
              "15          Belgium          BEL  1960  1.165872e+10\n",
              "...             ...          ...   ...           ...\n",
              "15306         Samoa          WSM  2017  8.566265e+08\n",
              "15307        Kosovo          XKX  2017  7.128691e+09\n",
              "15309  South Africa          ZAF  2017  3.494193e+11\n",
              "15310        Zambia          ZMB  2017  2.580867e+10\n",
              "15311      Zimbabwe          ZWE  2017  1.784582e+10\n",
              "\n",
              "[11777 rows x 4 columns]"
            ]
          },
          "metadata": {
            "tags": []
          },
          "execution_count": 164
        }
      ]
    }
  ]
}