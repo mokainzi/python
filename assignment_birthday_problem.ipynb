{
 "cells": [
  {
   "cell_type": "markdown",
   "metadata": {},
   "source": [
    "## The birthday problem/Paradox"
   ]
  },
  {
   "cell_type": "markdown",
   "metadata": {},
   "source": [
    "**There is a famous problem in statistics that concerns a room full of people: Same Birthday!**\n",
    "\n",
    "An instructor offers a prize of \\$20.00 to anyone who thinks that two people in the room have the same birthday.\n",
    "Your assignment is to build a Monte Carlo simulation to tell the instructor how many people need to be in the room to give him/her a better than 50% chance of winning the $20. \n",
    "\n",
    "That is to say how many people need to be in a room in order for the probability of two of them having the same birthday is greater than 50%. Do the same for 95% and 99%."
   ]
  },
  {
   "cell_type": "code",
   "execution_count": 1,
   "metadata": {},
   "outputs": [],
   "source": [
    "import numpy as np\n",
    "\n",
    "def simulate_birthday_matches(propability = 50):                # propability: propability of having a birthday match\n",
    "    for people in range(365):\n",
    "\n",
    "        result = np.array([])                                   # create empty array to hold simulation results\n",
    "        matches_avg = 0                                         # initialize matches average\n",
    "        \n",
    "        for i in range(10000):                                  # number of iterations to get closer to true propability\n",
    "            \n",
    "            birthdays = np.random.randint(0,365, people)        # assign random birthdays to people in a room\n",
    "\n",
    "            if len(np.unique(birthdays)) != len(birthdays):     # if there are matching birthdays\n",
    "                result = np.append(result, 1)\n",
    "            else:                                               # if there are no matching birthdays\n",
    "                result = np.append(result, 0)\n",
    "\n",
    "        matches_avg = round(np.mean(result) * 100)\n",
    "        \n",
    "        if matches_avg >= propability:\n",
    "            break\n",
    "\n",
    "    print(\"People needed to be in a room: \\t\\t\\t\\t\", people)\n",
    "    print(\"Probability of two of them having the same birthday: \\t\", str(matches_avg) + \"%\")"
   ]
  },
  {
   "cell_type": "code",
   "execution_count": 2,
   "metadata": {},
   "outputs": [
    {
     "name": "stdout",
     "output_type": "stream",
     "text": [
      "People needed to be in a room: \t\t\t\t 23\n",
      "Probability of two of them having the same birthday: \t 51%\n"
     ]
    }
   ],
   "source": [
    "simulate_birthday_matches(50)"
   ]
  },
  {
   "cell_type": "code",
   "execution_count": 3,
   "metadata": {},
   "outputs": [
    {
     "name": "stdout",
     "output_type": "stream",
     "text": [
      "People needed to be in a room: \t\t\t\t 46\n",
      "Probability of two of them having the same birthday: \t 95%\n"
     ]
    }
   ],
   "source": [
    "simulate_birthday_matches(95)"
   ]
  },
  {
   "cell_type": "code",
   "execution_count": 4,
   "metadata": {},
   "outputs": [
    {
     "name": "stdout",
     "output_type": "stream",
     "text": [
      "People needed to be in a room: \t\t\t\t 55\n",
      "Probability of two of them having the same birthday: \t 99%\n"
     ]
    }
   ],
   "source": [
    "simulate_birthday_matches(99)"
   ]
  }
 ],
 "metadata": {
  "kernelspec": {
   "display_name": "Python 3",
   "language": "python",
   "name": "python3"
  },
  "language_info": {
   "codemirror_mode": {
    "name": "ipython",
    "version": 3
   },
   "file_extension": ".py",
   "mimetype": "text/x-python",
   "name": "python",
   "nbconvert_exporter": "python",
   "pygments_lexer": "ipython3",
   "version": "3.8.2"
  }
 },
 "nbformat": 4,
 "nbformat_minor": 4
}